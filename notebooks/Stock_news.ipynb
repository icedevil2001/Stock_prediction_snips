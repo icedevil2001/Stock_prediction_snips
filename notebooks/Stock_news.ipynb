{
 "cells": [
  {
   "cell_type": "code",
   "execution_count": 8,
   "metadata": {},
   "outputs": [],
   "source": [
    "import requests\n",
    "from datetime import datetime\n",
    "\n",
    "from pprint import pprint\n",
    "from dateutil.parser import parse\n",
    "from datetime import datetime\n",
    "import jmespath\n",
    "\n",
    "from jinja2 import Environment, FileSystemLoader\n",
    "from email.mime.text import MIMEText\n",
    "import sys\n",
    "# sys.setdefaultencoding('utf-8')"
   ]
  },
  {
   "cell_type": "code",
   "execution_count": 9,
   "metadata": {},
   "outputs": [],
   "source": [
    "# !pip install jmespath "
   ]
  },
  {
   "cell_type": "code",
   "execution_count": 69,
   "metadata": {},
   "outputs": [],
   "source": [
    "class Info:\n",
    "    def __init__(self,symbol):\n",
    "        self.token = 'pk_4667974e324a475cb0c4eabb796d2088'\n",
    "        self.url = 'https://cloud.iexapis.com/v1/stock/'\n",
    "        self.symbol = symbol.lower()\n",
    "        self.data = self.get_data()\n",
    "#         return \n",
    "    \n",
    "    def get_data(self):\n",
    "      \n",
    "        URL='{}{}/batch?types=quote,news&range=1m&last=1&token={}'.format(self.url, self.symbol, self.token)\n",
    "        response = requests.get(URL)\n",
    "        if response.status_code == 200:\n",
    "            return response.json()\n",
    "        else:\n",
    "            print('ERROR',response.status_code)\n",
    "            \n",
    "    def get_news(self) :\n",
    "        return jmespath.search('news[0].summary', self.data)#.encode('utf-8')#.decode(\"utf-8\", \"replace\")\n",
    "#         return self.data['news'][0]['summary']\n",
    "        \n",
    "    def get_source(self):\n",
    "        return jmespath.search('news[0].source', self.data).encode('utf-8')\n",
    "#         return self.data['news'][0]['source']\n",
    "    def get_headline(self):\n",
    "        return jmespath.search('news[0].headline', self.data).encode('utf-8')\n",
    "\n",
    "        \n",
    "    def get_datetime(self):\n",
    "        ## https://stackoverflow.com/questions/10286224/javascript-timestamp-to-python-datetime-conversion\n",
    "        return (datetime\n",
    "                .utcfromtimestamp(\n",
    "                    jmespath.search('news[0].datetime', self.data)/1000\n",
    "                )\n",
    "                .strftime('%Y-%m-%d %H:%M'))\n",
    "    \n",
    "    def companyName(self):\n",
    "        return jmespath.search('quote.companyName', self.data)#.encode('utf-8')\n",
    "    \n",
    "    def price(self):\n",
    "#         close = jmespath.search('quote.clsoe', self.data)\n",
    "        d = []\n",
    "        for key in ['close','change', 'high', 'low', 'avgTotalVolume']:\n",
    "            d.append( \"{}: {}\".format(key, self.data['quote'][key]) )\n",
    "        return ' '.join(map(str,d))\n",
    "                               \n",
    "\n",
    "url = 'https://cloud.iexapis.com/v1/stock/'\n",
    "stock = 'aapl'\n",
    "\n",
    "info = Info(stock)\n",
    "# info.get_data()\n",
    "# print(info.get_new())b\n"
   ]
  },
  {
   "cell_type": "code",
   "execution_count": 70,
   "metadata": {},
   "outputs": [],
   "source": [
    "class Builder:\n",
    "    ## Jinja2 Template builder \n",
    "    def __init__(self):\n",
    "        return \n",
    "    \n",
    "    def build_template(self, symbol, companyNames,  news, prices):\n",
    "        try:\n",
    "            ## Load the html tempate from template/email.html\n",
    "            file_loader = FileSystemLoader('template')\n",
    "            env = Environment(loader=file_loader)\n",
    "            template =  env.get_template('email.html')\n",
    "            \n",
    "            ## Build Jinja2 template\n",
    "            output = template.render(symbols=symbol, companyNames=companyNames,  news=news,prices=prices)\n",
    "#             print(output)\n",
    "            body = MIMEText(output, \"html\")\n",
    "            return output\n",
    "        except Exception as e:\n",
    "            print('ERROR', e)\n",
    "            print()\n",
    "        \n",
    "            "
   ]
  },
  {
   "cell_type": "code",
   "execution_count": 74,
   "metadata": {},
   "outputs": [
    {
     "data": {
      "text/plain": [
       "'close: 444.45 change: -11.16 high: 454.7 low: 441.17 avgTotalVolume: 37499927'"
      ]
     },
     "execution_count": 74,
     "metadata": {},
     "output_type": "execute_result"
    }
   ],
   "source": [
    "STOCKS = ['AAPL','FSLY', 'MSFT']\n",
    "companyNames = []\n",
    "news = []\n",
    "prices = []\n",
    "\n",
    "for stock in STOCKS:\n",
    "    stock_data = Info(stock)\n",
    "    companyNames.append(stock_data.companyName())\n",
    "    news.append(stock_data.get_news())\n",
    "    prices.append(stock_data.price())\n"
   ]
  },
  {
   "cell_type": "code",
   "execution_count": 75,
   "metadata": {},
   "outputs": [],
   "source": [
    "# companyNames = [x.encode('utf-8') for x in companyNames]\n",
    "# news = [x.encode('utf-8') for x in news]\n",
    "# news"
   ]
  },
  {
   "cell_type": "code",
   "execution_count": 79,
   "metadata": {},
   "outputs": [],
   "source": [
    "builder = Builder()\n",
    "report = builder.build_template(STOCKS, companyNames, news, prices)\n",
    "# print(report)\n",
    "\n",
    "# print(report)\n",
    "with open('stock_report.html', 'w') as fileout:\n",
    "    fileout.write(report)"
   ]
  },
  {
   "cell_type": "code",
   "execution_count": null,
   "metadata": {},
   "outputs": [],
   "source": []
  },
  {
   "cell_type": "code",
   "execution_count": null,
   "metadata": {},
   "outputs": [],
   "source": []
  },
  {
   "cell_type": "code",
   "execution_count": null,
   "metadata": {},
   "outputs": [],
   "source": []
  },
  {
   "cell_type": "code",
   "execution_count": null,
   "metadata": {},
   "outputs": [],
   "source": []
  }
 ],
 "metadata": {
  "kernelspec": {
   "display_name": "Python 3",
   "language": "python",
   "name": "python3"
  },
  "language_info": {
   "codemirror_mode": {
    "name": "ipython",
    "version": 3
   },
   "file_extension": ".py",
   "mimetype": "text/x-python",
   "name": "python",
   "nbconvert_exporter": "python",
   "pygments_lexer": "ipython3",
   "version": "3.7.7"
  }
 },
 "nbformat": 4,
 "nbformat_minor": 4
}
