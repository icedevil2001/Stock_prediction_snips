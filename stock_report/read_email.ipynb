{
 "cells": [
  {
   "cell_type": "code",
   "execution_count": 179,
   "metadata": {},
   "outputs": [],
   "source": [
    "from util import send_email, Config\n",
    "# from pprint import pprint\n",
    "import re\n",
    "# from collections import defaultdict\n",
    "import pickle\n",
    "from pathlib import Path\n",
    "import datetime\n",
    "import re\n",
    "\n"
   ]
  },
  {
   "cell_type": "code",
   "execution_count": 180,
   "metadata": {},
   "outputs": [],
   "source": [
    "%load_ext autoreload\n"
   ]
  },
  {
   "cell_type": "code",
   "execution_count": 181,
   "metadata": {},
   "outputs": [],
   "source": [
    "%autoreload 2\n",
    "from util import send_email, Config"
   ]
  },
  {
   "cell_type": "code",
   "execution_count": 197,
   "metadata": {},
   "outputs": [
    {
     "data": {
      "text/plain": [
       "PosixPath('/Users/icedevil2001/Documents/git/Stock_prediction_snips/stock_report')"
      ]
     },
     "execution_count": 197,
     "metadata": {},
     "output_type": "execute_result"
    }
   ],
   "source": []
  },
  {
   "cell_type": "code",
   "execution_count": 163,
   "metadata": {},
   "outputs": [],
   "source": [
    "## stop\n",
    "## watch\n",
    "## unwatch\n",
    "\n",
    "## data {usr: {times:[], watch:[], unwatch: [], stop: bool}}"
   ]
  },
  {
   "cell_type": "code",
   "execution_count": 158,
   "metadata": {},
   "outputs": [],
   "source": [
    "def load_message_ids(f='data/message-id.plk'):\n",
    "    f = Path(f)\n",
    "    if f.exists():\n",
    "        with open(f,'rb') as fh:\n",
    "            return pickle.load(fh)\n",
    "    else:\n",
    "        return []\n",
    "def write_message_ids(read_msg, f='data/message-id.plk'):\n",
    "    with open(f, 'wb') as fh:\n",
    "        pickle.dump(read_msg, fh)\n",
    "        \n",
    "        \n",
    "def load_data(f='data/data.plk'):\n",
    "    f = Path(f)\n",
    "    if f.exists() and f.stat().st_size>0:\n",
    "        with open(f, 'rb') as fh:\n",
    "            return pickle.load(fh)\n",
    "    else:\n",
    "        if not f.parent.exists():\n",
    "            f.parent.mkdir(parents=True)\n",
    "        return {}  ## dict of dict\n",
    "    \n",
    "def write_data(data=None, f='data/data.plk'):\n",
    "    \n",
    "    if data:\n",
    "#         for k in data.keys():\n",
    "#             data[k]['watch'] = [x.upper() for x in  set(data[k]['watch'])]\n",
    "#             data[k]['unwatch'] = [x.upper() for x in  set(data[k]['unwatch'])]\n",
    "        with open(f, 'wb') as fh:\n",
    "            pickle.dump(data,fh)\n",
    "            \n",
    "def clean_email(email_add):\n",
    "    return re.sub('(<|>)','',email_add)\n",
    "\n",
    "\n",
    "def set_time(data, default=\"06:00\"):\n",
    "    tm = data['time']\n",
    "    if tm == '' or tm is None:\n",
    "        return default\n",
    "    return tm\n",
    "\n",
    "def time_format(timestr):\n",
    "    def __timefmt__(timestr):\n",
    "        if re.match('.*?(pm|am)', timestr.lower()):\n",
    "            return '%I:%M%p'\n",
    "        else:\n",
    "            return '%H:%M'\n",
    "    return datetime.datetime.strptime(timestr, __timefmt__(timestr)).time() \n",
    "\n",
    "def get_time(body):\n",
    "    r = re.search(r'.*?time.(\\d+:\\d+)', body, flags = re.I | re.MULTILINE | re.DOTALL)\n",
    "    if r:\n",
    "        return time_format(r.groups(1)[0])\n",
    "    return None\n",
    "\n",
    "def get_msg_watch(BODY):\n",
    "    watch = []\n",
    "    add = False\n",
    "    for text in BODY.strip().split():\n",
    "        text = text.lower()\n",
    "        if text in ['watch:', 'unwatch:','watch', 'unwatch']:\n",
    "            add = True\n",
    "            continue\n",
    "        if text == 'end':\n",
    "            add = False\n",
    "            continue\n",
    "        if add:\n",
    "            yield text\n",
    "            \n",
    "def remove_from_list(value, alist):\n",
    "    \n",
    "    try:\n",
    "        alist.remove(value)\n",
    "#         print(alist)\n",
    "    except Exception as e:\n",
    "        print(e)\n",
    "    \n",
    "def setup_metadata():\n",
    "    return {'watch': set(), 'unwatch': set(), 'time': None, 'stop': None}"
   ]
  },
  {
   "cell_type": "code",
   "execution_count": null,
   "metadata": {},
   "outputs": [],
   "source": []
  },
  {
   "cell_type": "code",
   "execution_count": 148,
   "metadata": {},
   "outputs": [],
   "source": [
    "def watch_stock(msg_ids,data,read_msg):\n",
    "#     data = load_data()\n",
    "    for msg_id in msg_ids:\n",
    "        msg = send_email.GetMessage(service,'me', msg_id)\n",
    "        BODY = msg['snippet'] \n",
    "        for info in msg['payload']['headers']:\n",
    "            for key, val in info.items():\n",
    "                if val == 'Return-Path':\n",
    "                    email_add = clean_email(info['value'])\n",
    "                    if email_add not in data:\n",
    "                        data[email_add] = setup_metadata()\n",
    "                    watch = data[email_add]['watch']\n",
    "                    set_time = get_time(BODY)\n",
    "                    if set_time:\n",
    "                        data[email_add]['time'] = set_time                 \n",
    "                    for stock in get_msg_watch(BODY):\n",
    "                        stock = stock.upper()\n",
    "\n",
    "                        watch.add(stock)\n",
    "                    data[email_add]['stop'] = False\n",
    "        read_msg.append(msg_id)\n",
    "\n",
    "\n",
    "def unwatch_stock(msg_ids,data,read_msg):\n",
    "#     data = load_data()\n",
    "    for msg_id in msg_ids:\n",
    "#         print(msg_id)\n",
    "        msg = send_email.GetMessage(service, 'me', msg_id)\n",
    "        BODY = msg['snippet'] \n",
    "        for info in msg['payload']['headers']:\n",
    "            for key, val in info.items():\n",
    "                if val == 'Return-Path':\n",
    "                    email_add = clean_email(info['value'])\n",
    "                    unwatch = data[email_add]['unwatch']\n",
    "                    watch = data[email_add]['watch']\n",
    "                    for stock in get_msg_watch(BODY):\n",
    "                        stock = stock.upper()\n",
    "                        unwatch.add(stock)\n",
    "                        remove_from_list(stock, watch)\n",
    "                    data[email_add]['stop'] = False\n",
    "        read_msg.append(msg_id)\n",
    "         \n",
    "def stop_notification(msg_ids, data,read_msg):\n",
    "#     data = load_data()\n",
    "    for msg_id in msg_ids:\n",
    "        msg = send_email.GetMessage(service,'me', msg_id)\n",
    "        for info in msg['payload']['headers']:\n",
    "            for key, val in info.items():\n",
    "                if val == 'Return-Path':\n",
    "                    email_add = clean_email(info['value'])\n",
    "                    data[email_add]['stop'] = True\n",
    "        read_msg.append(msg_id)\n"
   ]
  },
  {
   "cell_type": "code",
   "execution_count": 149,
   "metadata": {},
   "outputs": [],
   "source": [
    "read_msg = load_message_ids()\n",
    "read_msg = []"
   ]
  },
  {
   "cell_type": "code",
   "execution_count": 150,
   "metadata": {},
   "outputs": [],
   "source": [
    "\n",
    "service = send_email.send_email()\n",
    "# data = load_data()\n",
    "watch_list = [x['id'] for x in send_email.ListMessagesMatchingQuery(service, 'me', 'subject:watch') if x['id'] not in read_msg]\n",
    " \n",
    "unwatch_list = [x['id'] for x in send_email.ListMessagesMatchingQuery(service, 'me', 'subject:unwatch') if x['id'] not in read_msg]\n",
    "stop_list = [x['id'] for x in send_email.ListMessagesMatchingQuery(service, 'me', 'subject:stop') if x['id'] not in read_msg]\n"
   ]
  },
  {
   "cell_type": "code",
   "execution_count": 151,
   "metadata": {},
   "outputs": [
    {
     "data": {
      "text/plain": [
       "(['1736098adc2c45a2', '1735ab71790efd55'],\n",
       " ['173604c5dfb095b7'],\n",
       " ['173603d9e2bbe4d6'])"
      ]
     },
     "execution_count": 151,
     "metadata": {},
     "output_type": "execute_result"
    }
   ],
   "source": [
    "watch_list, unwatch_list, stop_list"
   ]
  },
  {
   "cell_type": "code",
   "execution_count": null,
   "metadata": {},
   "outputs": [],
   "source": []
  },
  {
   "cell_type": "code",
   "execution_count": 152,
   "metadata": {},
   "outputs": [
    {
     "name": "stdout",
     "output_type": "stream",
     "text": [
      "watch ['1736098adc2c45a2', '1735ab71790efd55']\n",
      "Message snippet: Time 9:00 Watch Test Mmm End Sent from my iPhone\n",
      "Message snippet: watch: AMD NVID BARC END\n",
      "unwatch ['173604c5dfb095b7']\n",
      "173604c5dfb095b7\n",
      "Message snippet: Unwatch: Barc Amd End Sent from my iPhone\n",
      "stop ['173603d9e2bbe4d6']\n",
      "Message snippet: Sent from my iPhone\n"
     ]
    }
   ],
   "source": [
    "data = load_data()\n",
    "for action, msg_ids in zip(['watch', 'unwatch', 'stop'], [watch_list, unwatch_list, stop_list]):\n",
    "    if len(msg_ids) == 0:\n",
    "        continue\n",
    "    if action == 'watch':\n",
    "        print(action,msg_ids)\n",
    "        watch_stock(msg_ids,data, read_msg)\n",
    "    elif action == 'unwatch':\n",
    "        print(action, msg_ids)\n",
    "        unwatch_stock(msg_ids, data, read_msg)\n",
    "    elif action == 'stop':\n",
    "        print(action,msg_ids)\n",
    "        stop_notification(msg_ids, data, read_msg)\n",
    "    "
   ]
  },
  {
   "cell_type": "code",
   "execution_count": null,
   "metadata": {},
   "outputs": [],
   "source": []
  },
  {
   "cell_type": "code",
   "execution_count": 154,
   "metadata": {},
   "outputs": [
    {
     "data": {
      "text/plain": [
       "{'watch': {'MMM', 'NVID', 'TEST'},\n",
       " 'unwatch': {'AMD', 'BARC'},\n",
       " 'time': datetime.time(9, 0),\n",
       " 'stop': True}"
      ]
     },
     "execution_count": 154,
     "metadata": {},
     "output_type": "execute_result"
    }
   ],
   "source": [
    "data['priyesh1983@gmail.com']"
   ]
  },
  {
   "cell_type": "code",
   "execution_count": 155,
   "metadata": {},
   "outputs": [],
   "source": [
    "write_data(data)\n",
    "write_message_ids(read_msg)"
   ]
  },
  {
   "cell_type": "code",
   "execution_count": 156,
   "metadata": {},
   "outputs": [
    {
     "data": {
      "text/plain": [
       "{'priyesh1983@gmail.com': {'watch': ['NVID', 'TEST', 'MMM'],\n",
       "  'unwatch': ['AMD', 'BARC'],\n",
       "  'time': datetime.time(9, 0),\n",
       "  'stop': True}}"
      ]
     },
     "execution_count": 156,
     "metadata": {},
     "output_type": "execute_result"
    }
   ],
   "source": [
    "load_data()"
   ]
  },
  {
   "cell_type": "code",
   "execution_count": 157,
   "metadata": {},
   "outputs": [
    {
     "data": {
      "text/plain": [
       "['1736098adc2c45a2',\n",
       " '1735ab71790efd55',\n",
       " '173604c5dfb095b7',\n",
       " '173603d9e2bbe4d6']"
      ]
     },
     "execution_count": 157,
     "metadata": {},
     "output_type": "execute_result"
    }
   ],
   "source": [
    "read_msg"
   ]
  },
  {
   "cell_type": "code",
   "execution_count": 54,
   "metadata": {},
   "outputs": [],
   "source": [
    "# send_email.GetMessage(service,'me', '173604c5dfb095b7')"
   ]
  },
  {
   "cell_type": "code",
   "execution_count": 55,
   "metadata": {},
   "outputs": [
    {
     "data": {
      "text/plain": [
       "{'priyesh1983@gmail.com': {'watch': ['NVID'],\n",
       "  'unwatch': ['AMD', 'BARC'],\n",
       "  'time': None,\n",
       "  'stop': True}}"
      ]
     },
     "execution_count": 55,
     "metadata": {},
     "output_type": "execute_result"
    }
   ],
   "source": [
    "data"
   ]
  },
  {
   "cell_type": "code",
   "execution_count": 321,
   "metadata": {},
   "outputs": [
    {
     "data": {
      "text/plain": [
       "[]"
      ]
     },
     "execution_count": 321,
     "metadata": {},
     "output_type": "execute_result"
    }
   ],
   "source": [
    "watch_list"
   ]
  },
  {
   "cell_type": "code",
   "execution_count": 109,
   "metadata": {},
   "outputs": [],
   "source": [
    "t = '''blas \n",
    "Time 7:00\n",
    "watch:\n",
    "A\n",
    "B\n",
    "C\n",
    "END\n",
    "'''"
   ]
  },
  {
   "cell_type": "code",
   "execution_count": 120,
   "metadata": {},
   "outputs": [],
   "source": [
    "def get_time(body):\n",
    "    r = re.search(r'.*?time.(\\d+:\\d+)', body, )\n",
    "    if r:\n",
    "        return time_format(r.groups(1)[0])\n",
    "    return None\n"
   ]
  },
  {
   "cell_type": "code",
   "execution_count": 121,
   "metadata": {},
   "outputs": [
    {
     "data": {
      "text/plain": [
       "datetime.time(7, 0)"
      ]
     },
     "execution_count": 121,
     "metadata": {},
     "output_type": "execute_result"
    }
   ],
   "source": [
    "get_time(t)"
   ]
  },
  {
   "cell_type": "code",
   "execution_count": 136,
   "metadata": {},
   "outputs": [
    {
     "ename": "NameError",
     "evalue": "name 'd' is not defined",
     "output_type": "error",
     "traceback": [
      "\u001b[0;31m---------------------------------------------------------------------------\u001b[0m",
      "\u001b[0;31mNameError\u001b[0m                                 Traceback (most recent call last)",
      "\u001b[0;32m<ipython-input-136-e983f374794d>\u001b[0m in \u001b[0;36m<module>\u001b[0;34m\u001b[0m\n\u001b[0;32m----> 1\u001b[0;31m \u001b[0md\u001b[0m\u001b[0;34m\u001b[0m\u001b[0;34m\u001b[0m\u001b[0m\n\u001b[0m",
      "\u001b[0;31mNameError\u001b[0m: name 'd' is not defined"
     ]
    }
   ],
   "source": [
    "d"
   ]
  },
  {
   "cell_type": "code",
   "execution_count": 202,
   "metadata": {},
   "outputs": [],
   "source": [
    "import time, sched"
   ]
  },
  {
   "cell_type": "code",
   "execution_count": 203,
   "metadata": {},
   "outputs": [
    {
     "data": {
      "text/plain": [
       "{'priyesh1983@gmail.com': {'watch': ['NVID', 'TEST', 'MMM'],\n",
       "  'unwatch': ['AMD', 'BARC'],\n",
       "  'time': datetime.time(9, 0),\n",
       "  'stop': True}}"
      ]
     },
     "execution_count": 203,
     "metadata": {},
     "output_type": "execute_result"
    }
   ],
   "source": []
  },
  {
   "cell_type": "code",
   "execution_count": null,
   "metadata": {},
   "outputs": [],
   "source": []
  },
  {
   "cell_type": "code",
   "execution_count": null,
   "metadata": {},
   "outputs": [],
   "source": []
  }
 ],
 "metadata": {
  "kernelspec": {
   "display_name": "Python 3",
   "language": "python",
   "name": "python3"
  },
  "language_info": {
   "codemirror_mode": {
    "name": "ipython",
    "version": 3
   },
   "file_extension": ".py",
   "mimetype": "text/x-python",
   "name": "python",
   "nbconvert_exporter": "python",
   "pygments_lexer": "ipython3",
   "version": "3.7.7"
  }
 },
 "nbformat": 4,
 "nbformat_minor": 4
}
